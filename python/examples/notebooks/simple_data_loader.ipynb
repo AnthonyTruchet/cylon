{
 "cells": [
  {
   "cell_type": "code",
   "execution_count": 2,
   "metadata": {},
   "outputs": [],
   "source": [
    "import os\n",
    "from pytwisterx.data import csv_reader\n",
    "from pytwisterx.data import Table\n",
    "from pyarrow import Table as PyArrowTable\n",
    "from pyarrow import Tensor as ArrowTensor\n",
    "import time\n",
    "import timeit\n",
    "import pandas as pd\n",
    "import numpy as np\n",
    "import torch\n",
    "from torch import Tensor as TorchTensor\n",
    "from pytwisterx.utils.benchmark import benchmark_with_repitions"
   ]
  },
  {
   "cell_type": "code",
   "execution_count": 3,
   "metadata": {},
   "outputs": [],
   "source": [
    "'''\n",
    "File Configurations\n",
    "'''\n",
    "\n",
    "base_path: str = \"/home/vibhatha/data/mnist\"\n",
    "train_file_name: str = \"mnist_train_small.csv\"\n",
    "test_file_name: str = \"mnist_test.csv\"\n",
    "train_file_path: str = os.path.join(base_path, train_file_name)\n",
    "test_file_path: str = os.path.join(base_path, test_file_name)\n",
    "delimiter: str = \",\"\n",
    "\n",
    "'''\n",
    "Timing Configurations:\n",
    "\n",
    "'''\n",
    "reps: int = 10\n",
    "time_data_loading: int = 0\n",
    "time_txtb_to_arrowtb: int = 0\n",
    "time_pyarwtb_to_numpy: int = 0\n",
    "time_numpy_to_arrowtn: int = 0\n",
    "time_numpy_to_torchtn: int = 0\n",
    "time_type: str = \"ms\""
   ]
  },
  {
   "cell_type": "code",
   "execution_count": 4,
   "metadata": {},
   "outputs": [
    {
     "name": "stdout",
     "output_type": "stream",
     "text": [
      "Train File Path : /home/vibhatha/data/mnist/mnist_train_small.csv\n",
      "Test File Path : /home/vibhatha/data/mnist/mnist_test.csv\n"
     ]
    }
   ],
   "source": [
    "'''\n",
    "Check Data Files\n",
    "'''\n",
    "\n",
    "print(\"Train File Path : {}\".format(train_file_path))\n",
    "print(\"Test File Path : {}\".format(test_file_path))\n",
    "\n",
    "assert os.path.exists(train_file_path) == True\n",
    "assert os.path.exists(test_file_path) == True\n",
    "\n",
    "'''\n",
    "Global Vars\n",
    "'''\n",
    "\n",
    "tb_train: Table = None\n",
    "tb_test: Table = None\n",
    "tb_train_arw: PyArrowTable = None\n",
    "tb_test_arw: PyArrowTable = None\n",
    "train_npy: np.ndarray = None\n",
    "test_npy: np.ndarray = None\n",
    "train_arrow_tensor: ArrowTensor = None\n",
    "test_arrow_tensor: ArrowTensor = None\n",
    "train_torch_tensor: TorchTensor = None\n",
    "test_torch_tensor: TorchTensor = None\n",
    "\n",
    "'''\n",
    "load To Twisterx Tables\n",
    "'''\n",
    "\n",
    "\n",
    "@benchmark_with_repitions(repititions=reps, time_type=time_type)\n",
    "def load_data_to_tx_tables():\n",
    "    tb_train: Table = csv_reader.read(train_file_path, delimiter)\n",
    "    tb_test: Table = csv_reader.read(test_file_path, delimiter)\n",
    "    return tb_train, tb_test\n",
    "\n",
    "\n",
    "'''\n",
    "If some pre-processing to do, do it here...\n",
    "Join, shuffle, partition, etc\n",
    "'''\n",
    "\n",
    "\n",
    "@benchmark_with_repitions(repititions=reps, time_type=time_type)\n",
    "def convert_tx_table_to_arrow_table():\n",
    "    tb_train_arw: PyArrowTable = Table.to_arrow(tb_train)\n",
    "    tb_test_arw: PyArrowTable = Table.to_arrow(tb_test)\n",
    "    return tb_train_arw, tb_test_arw\n",
    "\n",
    "\n",
    "@benchmark_with_repitions(repititions=reps, time_type=time_type)\n",
    "def covert_arrow_table_to_numpy():\n",
    "    train_npy: np.ndarray = tb_train_arw.to_pandas().to_numpy()\n",
    "    test_npy: np.ndarray = tb_test_arw.to_pandas().to_numpy()\n",
    "    return train_npy, test_npy\n",
    "\n",
    "\n",
    "@benchmark_with_repitions(repititions=reps, time_type=time_type)\n",
    "def convert_numpy_to_arrow_tensor():\n",
    "    train_arrow_tensor = ArrowTensor.from_numpy(train_npy)\n",
    "    test_arrow_tensor = ArrowTensor.from_numpy(test_npy)\n",
    "    return train_arrow_tensor, test_arrow_tensor\n",
    "\n",
    "\n",
    "@benchmark_with_repitions(repititions=reps, time_type=time_type)\n",
    "def convert_numpy_to_torch_tensor():\n",
    "    train_torch_tensor: TorchTensor = torch.from_numpy(train_npy)\n",
    "    test_torch_tensor: TorchTensor = torch.from_numpy(test_npy)\n",
    "    return train_torch_tensor, test_torch_tensor\n",
    "\n",
    "\n",
    "########################################################################################################################\n",
    "\n"
   ]
  },
  {
   "cell_type": "code",
   "execution_count": 5,
   "metadata": {},
   "outputs": [
    {
     "name": "stdout",
     "output_type": "stream",
     "text": [
      "Data Loading Average Time : 248.9524026 ms\n",
      "Twisterx Table to PyArrow Table Average Time : 37.096254 ms\n",
      "Pyarrow Table to Numpy Average Time : 47.222053 ms\n",
      "Numpy to Arrow Tensor Average Time : 0.1086954 ms\n",
      "Numpy to Torch Tensor Average Time : 0.0124856 ms\n"
     ]
    }
   ],
   "source": [
    "time_data_loading, (tb_train, tb_test) = load_data_to_tx_tables()\n",
    "time_txtb_to_arrowtb, (tb_train_arw, tb_test_arw) = convert_tx_table_to_arrow_table()\n",
    "time_pyarwtb_to_numpy, (train_npy, test_npy) = covert_arrow_table_to_numpy()\n",
    "time_numpy_to_arrowtn, (train_arrow_tensor, test_arrow_tensor) = convert_numpy_to_arrow_tensor()\n",
    "time_numpy_to_torchtn, (train_torch_tensor, test_torch_tensor) = convert_numpy_to_torch_tensor()\n",
    "\n",
    "print(\"Data Loading Average Time : {} {}\".format(time_data_loading, time_type))\n",
    "print(\"Twisterx Table to PyArrow Table Average Time : {} {}\".format(time_txtb_to_arrowtb, time_type))\n",
    "print(\"Pyarrow Table to Numpy Average Time : {} {}\".format(time_pyarwtb_to_numpy, time_type))\n",
    "print(\"Numpy to Arrow Tensor Average Time : {} {}\".format(time_numpy_to_arrowtn, time_type))\n",
    "print(\"Numpy to Torch Tensor Average Time : {} {}\".format(time_numpy_to_torchtn, time_type))"
   ]
  }
 ],
 "metadata": {
  "kernelspec": {
   "display_name": "ENV",
   "language": "python",
   "name": "env"
  },
  "language_info": {
   "codemirror_mode": {
    "name": "ipython",
    "version": 3
   },
   "file_extension": ".py",
   "mimetype": "text/x-python",
   "name": "python",
   "nbconvert_exporter": "python",
   "pygments_lexer": "ipython3",
   "version": "3.8.2"
  }
 },
 "nbformat": 4,
 "nbformat_minor": 4
}
